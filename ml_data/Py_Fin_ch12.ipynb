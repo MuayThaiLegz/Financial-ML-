{
 "cells": [
  {
   "cell_type": "code",
   "execution_count": null,
   "id": "d6aafc7f",
   "metadata": {},
   "outputs": [],
   "source": [
    "\"\"\"\n",
    "Python for Finance: Mastering data driven finance.\n",
    "Chapter 12 - Stochastics\n",
    "\n",
    "This chapter introduces \n",
    "\n",
    "\"Random Numbers\"\n",
    "Pseudo-random numbers build basis for all simulation efforts.\n",
    "\n",
    "\"Simulation\"\n",
    "In finance two simulation taks are of importance: simulation of random variables and stochastic prosesses.\n",
    "\n",
    "\"Valuation\"\n",
    "Two main disiplines when it comes to valuation are valuation with Euro exercise and US exercise\n",
    "also Bermudan exercise(a finite set of spefific dates)\n",
    "\n",
    "\"Risk Measuers\"\n",
    "Simulation lends well to the calculation of risk like[value at risk, credit value-at-risk and credit valuation adjustments]\n",
    "\"\"\"\n"
   ]
  },
  {
   "cell_type": "code",
   "execution_count": 4,
   "id": "e1c98e74",
   "metadata": {},
   "outputs": [],
   "source": [
    "import math \n",
    "import numpy as np \n",
    "import numpy.random as npr\n",
    "from pylab import plt, mpl\n",
    "\n",
    "plt.style.use('seaborn')\n",
    "mpl.rcParams['font.family'] = 'serif'\n",
    "%matplotlib inline\n",
    "\n",
    "\n",
    "# Random Numbers \n",
    "\n",
    "\n",
    "npr.seed(100)\n",
    "np.set_printoptions(precision=4)"
   ]
  },
  {
   "cell_type": "code",
   "execution_count": 5,
   "id": "769005df",
   "metadata": {},
   "outputs": [
    {
     "data": {
      "text/plain": [
       "array([0.5434, 0.2784, 0.4245, 0.8448, 0.0047, 0.1216, 0.6707, 0.8259,\n",
       "       0.1367, 0.5751])"
      ]
     },
     "execution_count": 5,
     "metadata": {},
     "output_type": "execute_result"
    }
   ],
   "source": [
    "npr.rand(10)"
   ]
  },
  {
   "cell_type": "code",
   "execution_count": 6,
   "id": "42ca0560",
   "metadata": {},
   "outputs": [
    {
     "data": {
      "text/plain": [
       "array([[0.8913, 0.2092, 0.1853, 0.1084, 0.2197],\n",
       "       [0.9786, 0.8117, 0.1719, 0.8162, 0.2741],\n",
       "       [0.4317, 0.94  , 0.8176, 0.3361, 0.1754],\n",
       "       [0.3728, 0.0057, 0.2524, 0.7957, 0.0153],\n",
       "       [0.5988, 0.6038, 0.1051, 0.3819, 0.0365],\n",
       "       [0.8904, 0.9809, 0.0599, 0.8905, 0.5769],\n",
       "       [0.7425, 0.6302, 0.5818, 0.0204, 0.21  ],\n",
       "       [0.5447, 0.7691, 0.2507, 0.2859, 0.8524],\n",
       "       [0.975 , 0.8849, 0.3595, 0.5989, 0.3548],\n",
       "       [0.3402, 0.1781, 0.2377, 0.0449, 0.5054]])"
      ]
     },
     "execution_count": 6,
     "metadata": {},
     "output_type": "execute_result"
    }
   ],
   "source": [
    "npr.rand(10, 5)"
   ]
  },
  {
   "cell_type": "code",
   "execution_count": 7,
   "id": "568ee40b",
   "metadata": {},
   "outputs": [
    {
     "data": {
      "text/plain": [
       "array([6.8813, 7.964 , 8.1497, 5.713 , 9.6692, 9.7319, 8.0115, 6.9388,\n",
       "       6.8159, 6.0217])"
      ]
     },
     "execution_count": 7,
     "metadata": {},
     "output_type": "execute_result"
    }
   ],
   "source": [
    "a = 5\n",
    "b = 10\n",
    "\n",
    "npr.rand(10) * (b - a) + a"
   ]
  },
  {
   "cell_type": "code",
   "execution_count": 9,
   "id": "0c3deafd",
   "metadata": {},
   "outputs": [
    {
     "data": {
      "text/plain": [
       "array([[5.5677, 5.6651, 7.2802, 5.7987],\n",
       "       [9.8082, 9.1881, 7.6008, 6.0914],\n",
       "       [5.6746, 9.8954, 8.5352, 9.2999],\n",
       "       [6.9359, 6.2542, 6.4972, 9.2845]])"
      ]
     },
     "execution_count": 9,
     "metadata": {},
     "output_type": "execute_result"
    }
   ],
   "source": [
    "npr.rand(4, 4) * (b - a) + a"
   ]
  },
  {
   "cell_type": "code",
   "execution_count": 12,
   "id": "5e779fdc",
   "metadata": {},
   "outputs": [
    {
     "data": {
      "text/plain": [
       "Text(0.5, 1.0, 'Poisson')"
      ]
     },
     "execution_count": 12,
     "metadata": {},
     "output_type": "execute_result"
    },
    {
     "data": {
      "image/png": "[encoded data removed]",
      "text/plain": [
       "<Figure size 720x576 with 4 Axes>"
      ]
     },
     "metadata": {
      "needs_background": "light"
     },
     "output_type": "display_data"
    }
   ],
   "source": [
    "\"\"\"\n",
    "Next plot visualizes random draws from the following distribution.\n",
    "\n",
    "* Standard normal with mean of 0 and std of 1.\n",
    "* Normal with mean of 100 and std of 20.\n",
    "* Chi square with 0.5 degress of freedom.\n",
    "* Poisson with lambda of 1.\n",
    "\n",
    "The result is 3 continuos distributions and the discrete one (Poisson)\n",
    "Poisson is used to simulate the arrival of (rare) extrenal events.\n",
    "Like a jump or drop of an instrument or exogenic shock\n",
    "\"\"\"\n",
    "sample_size = 500\n",
    "\n",
    "rn1 = npr.standard_normal(sample_size) # Standard normally distributed random numbers\n",
    "rn2 = npr.standard_normal(sample_size) # Nprmally distributed random numbers\n",
    "rn3 = npr.chisquare(df=0.5, size=sample_size) # Chi-square distributed random numbers\n",
    "rn4 = npr.poisson(lam=1.0, size=sample_size) # Poisson distributed numbers\n",
    "\n",
    "fig, ((ax1, ax2), (ax3, ax4)) = plt.subplots(nrows=2, ncols=2,\n",
    "                                              figsize=(10,8))\n",
    "\n",
    "ax1.hist(rn1, bins=25)\n",
    "ax1.set_title('Standard normal')\n",
    "ax1.set_ylabel('frenquency')\n",
    "ax2.hist(rn2, bins=25)\n",
    "ax2.set_title('normal(100, 20)')\n",
    "ax3.hist(rn3, bins=25)\n",
    "ax3.set_title('chi square')\n",
    "ax3.set_ylabel('frequency')\n",
    "ax4.hist(rn4, bins=25)\n",
    "ax4.set_title('Poisson')\n",
    "\n",
    "\n"
   ]
  },
  {
   "cell_type": "code",
   "execution_count": null,
   "id": "f1f196f2",
   "metadata": {},
   "outputs": [],
   "source": [
    "\"\"\"\n",
    "#Simulation\n",
    "\n",
    "Monte Carlo simulation (MCS) is one of the most important numerical techniques in fianace.\n",
    "It is flaexible numerical method when it comes to the evalutaion of math expressions.\n",
    "The valuation of financial derivatives. \n",
    "Hundreds of thousands even millions of computaions have to be carried out to come up with a single value estimate.\n",
    "\"\"\""
   ]
  },
  {
   "cell_type": "code",
   "execution_count": 21,
   "id": "81288184",
   "metadata": {},
   "outputs": [],
   "source": [
    "\"\"\"\n",
    "# Random Variables \n",
    "The Black-Scholes-Merton setup for option pricing.\n",
    "\n",
    "The variables and parameters have the following meaning:\n",
    "\n",
    "ST = Index leel at date T\n",
    "r = Constant riskless short rate\n",
    "o = Constant volatility(= std of returns) of S\n",
    "z = Standard normally distributed variable\n",
    "\"\"\"\n",
    "\n",
    "S0 = 100\n",
    "r = 0.05\n",
    "sigma = 0.25\n",
    "T = 2.0\n",
    "I = 10000 \n",
    "ST1 = S0 * np.exp((r - 0.5 * sigma ** 2) * T +\n",
    "                 sigma * math.sqrt(T) * npr.standard_normal(I))\n",
    "ST2 = S0 * npr.lognormal((r - 0.5 * sigma ** 2) * T,\n",
    "                        sigma * math.sqrt(T), size=I)"
   ]
  },
  {
   "cell_type": "code",
   "execution_count": 22,
   "id": "b1aed66d",
   "metadata": {},
   "outputs": [
    {
     "data": {
      "text/plain": [
       "Text(0, 0.5, 'frequency')"
      ]
     },
     "execution_count": 22,
     "metadata": {},
     "output_type": "execute_result"
    },
    {
     "data": {
      "image/png": "[encoded data removed]",
      "text/plain": [
       "<Figure size 720x432 with 1 Axes>"
      ]
     },
     "metadata": {
      "needs_background": "light"
     },
     "output_type": "display_data"
    }
   ],
   "source": [
    "plt.figure(figsize=(10, 6))\n",
    "plt.hist(ST1, bins=50)\n",
    "plt.xlabel('index level')\n",
    "plt.ylabel('frequency')"
   ]
  },
  {
   "cell_type": "code",
   "execution_count": 25,
   "id": "30d48cf0",
   "metadata": {},
   "outputs": [
    {
     "name": "stdout",
     "output_type": "stream",
     "text": [
      "     statistic     data set 1     data set 2\n",
      "---------------------------------------------\n",
      "          size      10000.000      10000.000\n",
      "           min         29.665         27.105\n",
      "           max        409.110        427.652\n",
      "          mean        110.578        110.225\n",
      "           std         40.408         39.764\n",
      "          skew          1.187          1.091\n",
      "      kurtosis          2.664          2.218\n"
     ]
    }
   ],
   "source": [
    "\"\"\"\n",
    "A statistical mements of the sulting distributions.\n",
    "The scipy.stats subpackage and helper function prove useful\n",
    "\"\"\"\n",
    "import scipy.stats as scs\n",
    "\n",
    "def print_stats(a1, a2):\n",
    "    sta1 = scs.describe(a1)\n",
    "    sta2 = scs.describe(a2)\n",
    "    print('%14s %14s %14s' %\n",
    "    ('statistic', 'data set 1', 'data set 2'))\n",
    "    print(45 * \"-\")\n",
    "    print('%14s %14.3f %14.3f' % ('size', sta1[0], sta2[0]))\n",
    "    print('%14s %14.3f %14.3f' % ('min', sta1[1][0], sta2[1][0]))\n",
    "    print('%14s %14.3f %14.3f' % ('max', sta1[1][1], sta2[1][1]))\n",
    "    print('%14s %14.3f %14.3f' % ('mean', sta1[2], sta2[2]))\n",
    "    print('%14s %14.3f %14.3f' % ('std', np.sqrt(sta1[3]), np.sqrt(sta2[3])))\n",
    "    print('%14s %14.3f %14.3f' % ('skew', sta1[4], sta2[4]))\n",
    "    print('%14s %14.3f %14.3f' % ('kurtosis', sta1[5], sta2[5]))\n",
    "\n",
    "\n",
    "    \n",
    "    \n",
    "    \n",
    "print_stats(ST1,ST2)"
   ]
  },
  {
   "cell_type": "code",
   "execution_count": null,
   "id": "ac87a963",
   "metadata": {},
   "outputs": [],
   "source": []
  },
  {
   "cell_type": "code",
   "execution_count": null,
   "id": "3121f569",
   "metadata": {},
   "outputs": [],
   "source": []
  },
  {
   "cell_type": "code",
   "execution_count": null,
   "id": "ff9c4d25",
   "metadata": {},
   "outputs": [],
   "source": []
  },
  {
   "cell_type": "code",
   "execution_count": null,
   "id": "6bdc927d",
   "metadata": {},
   "outputs": [],
   "source": []
  },
  {
   "cell_type": "code",
   "execution_count": null,
   "id": "8c8812e2",
   "metadata": {},
   "outputs": [],
   "source": []
  },
  {
   "cell_type": "code",
   "execution_count": null,
   "id": "5fbd9cee",
   "metadata": {},
   "outputs": [],
   "source": []
  },
  {
   "cell_type": "code",
   "execution_count": null,
   "id": "2b100525",
   "metadata": {},
   "outputs": [],
   "source": []
  },
  {
   "cell_type": "code",
   "execution_count": null,
   "id": "8852f1fa",
   "metadata": {},
   "outputs": [],
   "source": []
  },
  {
   "cell_type": "code",
   "execution_count": null,
   "id": "1530bbb5",
   "metadata": {},
   "outputs": [],
   "source": []
  },
  {
   "cell_type": "code",
   "execution_count": null,
   "id": "1b82feb2",
   "metadata": {},
   "outputs": [],
   "source": []
  },
  {
   "cell_type": "code",
   "execution_count": null,
   "id": "afb40d6b",
   "metadata": {},
   "outputs": [],
   "source": []
  },
  {
   "cell_type": "code",
   "execution_count": null,
   "id": "190f7e5d",
   "metadata": {},
   "outputs": [],
   "source": []
  },
  {
   "cell_type": "code",
   "execution_count": null,
   "id": "318d5eb5",
   "metadata": {},
   "outputs": [],
   "source": []
  },
  {
   "cell_type": "code",
   "execution_count": null,
   "id": "c1c17c3b",
   "metadata": {},
   "outputs": [],
   "source": []
  },
  {
   "cell_type": "code",
   "execution_count": null,
   "id": "7b36233e",
   "metadata": {},
   "outputs": [],
   "source": []
  },
  {
   "cell_type": "code",
   "execution_count": null,
   "id": "085206e7",
   "metadata": {},
   "outputs": [],
   "source": []
  },
  {
   "cell_type": "code",
   "execution_count": null,
   "id": "f471cfc0",
   "metadata": {},
   "outputs": [],
   "source": []
  },
  {
   "cell_type": "code",
   "execution_count": null,
   "id": "860421ec",
   "metadata": {},
   "outputs": [],
   "source": []
  },
  {
   "cell_type": "code",
   "execution_count": null,
   "id": "ab7ca284",
   "metadata": {},
   "outputs": [],
   "source": []
  },
  {
   "cell_type": "code",
   "execution_count": null,
   "id": "14b527a1",
   "metadata": {},
   "outputs": [],
   "source": []
  },
  {
   "cell_type": "code",
   "execution_count": null,
   "id": "941ae952",
   "metadata": {},
   "outputs": [],
   "source": []
  }
 ],
 "metadata": {
  "kernelspec": {
   "display_name": "dev",
   "language": "python",
   "name": "dev"
  },
  "language_info": {
   "codemirror_mode": {
    "name": "ipython",
    "version": 3
   },
   "file_extension": ".py",
   "mimetype": "text/x-python",
   "name": "python",
   "nbconvert_exporter": "python",
   "pygments_lexer": "ipython3",
   "version": "3.7.10"
  }
 },
 "nbformat": 4,
 "nbformat_minor": 5
}
