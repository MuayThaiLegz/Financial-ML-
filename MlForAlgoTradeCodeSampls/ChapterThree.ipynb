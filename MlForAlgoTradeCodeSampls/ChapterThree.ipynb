{
 "cells": [
  {
   "cell_type": "code",
   "execution_count": 1,
   "id": "542cd870-db2b-4cd4-8017-23d6d50f9251",
   "metadata": {},
   "outputs": [],
   "source": [
    "import warnings\n",
    "warnings.filterwarnings('ignore')"
   ]
  },
  {
   "cell_type": "code",
   "execution_count": 2,
   "id": "2ab972ec-d021-4296-986a-66c5f0498767",
   "metadata": {},
   "outputs": [],
   "source": [
    "%matplotlib inline\n",
    "import gzip\n",
    "import shutil\n",
    "from struct import unpack\n",
    "from collections import namedtuple, Counter, defaultdict\n",
    "from pathlib import Path\n",
    "from urllib.request import urlretrieve\n",
    "from urllib.parse import urljoin\n",
    "from datetime import timedelta\n",
    "from time import time\n",
    "\n",
    "import pandas as pd\n",
    "import mplfinance as mpf\n",
    "\n",
    "\n",
    "import matplotlib.pyplot as plt\n",
    "from matplotlib.ticker import FuncFormatter\n",
    "import seaborn as sns"
   ]
  },
  {
   "cell_type": "code",
   "execution_count": 3,
   "id": "22686bd2-b1f9-49d8-9ede-69111a1d5bc8",
   "metadata": {},
   "outputs": [],
   "source": [
    "sns.set_style('whitegrid')"
   ]
  },
  {
   "cell_type": "code",
   "execution_count": null,
   "id": "d3ff2d40-08c7-4aae-8480-fd44d51b885a",
   "metadata": {},
   "outputs": [],
   "source": []
  },
  {
   "cell_type": "code",
   "execution_count": 4,
   "id": "aa240703-deb5-4715-ab00-f838203295ff",
   "metadata": {},
   "outputs": [
    {
     "name": "stderr",
     "output_type": "stream",
     "text": [
      "\n",
      "\n",
      "====== WebDriver manager ======\n",
      "Current google-chrome version is 96.0.4664\n",
      "Get LATEST chromedriver version for 96.0.4664 google-chrome\n",
      "There is no [win32] chromedriver for browser  in cache\n",
      "Trying to download new driver from https://chromedriver.storage.googleapis.com/96.0.4664.45/chromedriver_win32.zip\n",
      "Driver has been saved in cache [C:\\Users\\JBarr\\.wdm\\drivers\\chromedriver\\win32\\96.0.4664.45]\n"
     ]
    }
   ],
   "source": [
    "\"\"\"\n",
    "Chapter 3 Alternative Data for Finance.\n",
    "\n",
    "Introducing Selenium -using browser automation\n",
    "\n",
    "\"\"\"\n",
    "\n",
    "from selenium import webdriver\n",
    "from webdriver_manager.chrome import ChromeDriverManager\n",
    "\n",
    "driver = webdriver.Chrome(ChromeDriverManager().install())\n"
   ]
  },
  {
   "cell_type": "code",
   "execution_count": 5,
   "id": "b9ef2318-795f-405e-9b2d-36d0d92fd6f3",
   "metadata": {},
   "outputs": [],
   "source": [
    "driver.close()"
   ]
  },
  {
   "cell_type": "code",
   "execution_count": 45,
   "id": "4aa5e99d",
   "metadata": {},
   "outputs": [
    {
     "name": "stderr",
     "output_type": "stream",
     "text": [
      "\n",
      "\n",
      "====== WebDriver manager ======\n",
      "Current google-chrome version is 96.0.4664\n",
      "Get LATEST chromedriver version for 96.0.4664 google-chrome\n",
      "Driver [C:\\Users\\JBarr\\.wdm\\drivers\\chromedriver\\win32\\96.0.4664.45\\chromedriver.exe] found in cache\n"
     ]
    }
   ],
   "source": [
    "'''\n",
    "Scraping and parsing earnings call transcripts: We will illustrate the scraping and parsing of erarning call transcripts\n",
    "from the popular website seekingalpha.com. Using Selenim and Beatufil Soup\n",
    "'''\n",
    "\n",
    "from urllib.parse import urljoin\n",
    "from pathlib import Path\n",
    "import re \n",
    "from bs4 import BeautifulSoup\n",
    "from furl import furl\n",
    "\n",
    "from selenium import webdriver\n",
    "from webdriver_manager.chrome import ChromeDriverManager\n",
    "\n",
    "transcript_path = Path('tsla')\n",
    "\n",
    "SA_URL= SA_URL = 'https://stockanalysis.com/'\n",
    "\n",
    "TRANSCRIPT = re.compile('stocks')\n",
    "\n",
    "next_page = True\n",
    "\n",
    "page = 'stock-screener/'\n",
    "\n",
    "driver = webdriver.Chrome(ChromeDriverManager().install())"
   ]
  },
  {
   "cell_type": "code",
   "execution_count": 46,
   "id": "7a8b0e6a-0d07-4d25-9841-6e3cb3030c18",
   "metadata": {},
   "outputs": [],
   "source": [
    "while next_page:\n",
    "    url = f'{SA_URL}{page}'\n",
    "    driver.get(urljoin(SA_URL, url))\n",
    "    response = driver.page_source\n",
    "    #page += 1\n",
    "    soup = BeautifulSoup(response, 'lxml')\n",
    "    links = soup.find_all(name='Symbol', string=transcript_path)\n",
    "    if len(links) == 0:\n",
    "        next_page = False\n",
    "    else:\n",
    "        for link in links:\n",
    "            some_url = link.attrs.get('href')\n",
    "            article_url = furl(urljoin(SA_URL, some_url)).add({'part': 'single'})\n",
    "            driver.get(article_url)\n",
    "            hmtl = driver.page_source\n",
    "            meta, participants, content = parse_html(html)\n",
    "            meta['link'] = link\n",
    "                               \n",
    "    \n",
    "    "
   ]
  },
  {
   "cell_type": "code",
   "execution_count": null,
   "id": "5fe6f081-4a4e-41b5-b3ef-1bb06e9eab22",
   "metadata": {},
   "outputs": [],
   "source": []
  },
  {
   "cell_type": "code",
   "execution_count": 57,
   "id": "2850d20f-6db9-4546-a5fb-9ca8a60b5892",
   "metadata": {},
   "outputs": [],
   "source": [
    "def parsehtml(html):\n",
    "    date_pattern = re.compile(r'(\\d{2})-(\\d{2})-(\\d{2})')\n",
    "    quater_pattern = re.compile(r'(\\bQ\\d\\b)')\n",
    "    soup = BeautifulSoup(html, 'lxml')\n",
    "    meta, participants, content = {}, [], []\n",
    "    #h1 = soup.find(itemprop='headline')\n",
    "    #meta['company'] = h1[:h1.find('(')].strip()\n",
    "    #meta['symbol'] = h1[h1.find('(') + 1:h1.find(')')]\n",
    "    title = soup.find('div', class_='title').text\n",
    "    match = date_pattern.search(title)\n",
    "    if match:\n",
    "        m, d, y = match.groups()\n",
    "        meta['month'] = int(m)\n",
    "        meta['day'] = int(d)\n",
    "        meta['year'] = int(y)\n",
    "    match = quater_pattern.search(title)\n",
    "    if match:\n",
    "        meta['quarter'] = match.group(0)\n",
    "    qa = 0\n",
    "\n",
    "        "
   ]
  },
  {
   "cell_type": "code",
   "execution_count": 58,
   "id": "0f4db1d7",
   "metadata": {},
   "outputs": [
    {
     "ename": "AttributeError",
     "evalue": "'NoneType' object has no attribute 'text'",
     "output_type": "error",
     "traceback": [
      "\u001b[1;31m---------------------------------------------------------------------------\u001b[0m",
      "\u001b[1;31mAttributeError\u001b[0m                            Traceback (most recent call last)",
      "\u001b[1;32m~\\AppData\\Local\\Temp/ipykernel_27612/1705928253.py\u001b[0m in \u001b[0;36m<module>\u001b[1;34m\u001b[0m\n\u001b[1;32m----> 1\u001b[1;33m \u001b[0mparsehtml\u001b[0m\u001b[1;33m(\u001b[0m\u001b[0mhtml\u001b[0m\u001b[1;33m)\u001b[0m\u001b[1;33m\u001b[0m\u001b[1;33m\u001b[0m\u001b[0m\n\u001b[0m",
      "\u001b[1;32m~\\AppData\\Local\\Temp/ipykernel_27612/3600633238.py\u001b[0m in \u001b[0;36mparsehtml\u001b[1;34m(html)\u001b[0m\n\u001b[0;32m      7\u001b[0m     \u001b[1;31m#meta['company'] = h1[:h1.find('(')].strip()\u001b[0m\u001b[1;33m\u001b[0m\u001b[1;33m\u001b[0m\u001b[1;33m\u001b[0m\u001b[0m\n\u001b[0;32m      8\u001b[0m     \u001b[1;31m#meta['symbol'] = h1[h1.find('(') + 1:h1.find(')')]\u001b[0m\u001b[1;33m\u001b[0m\u001b[1;33m\u001b[0m\u001b[1;33m\u001b[0m\u001b[0m\n\u001b[1;32m----> 9\u001b[1;33m     \u001b[0mtitle\u001b[0m \u001b[1;33m=\u001b[0m \u001b[0msoup\u001b[0m\u001b[1;33m.\u001b[0m\u001b[0mfind\u001b[0m\u001b[1;33m(\u001b[0m\u001b[1;34m'div'\u001b[0m\u001b[1;33m,\u001b[0m \u001b[0mclass_\u001b[0m\u001b[1;33m=\u001b[0m\u001b[1;34m'title'\u001b[0m\u001b[1;33m)\u001b[0m\u001b[1;33m.\u001b[0m\u001b[0mtext\u001b[0m\u001b[1;33m\u001b[0m\u001b[1;33m\u001b[0m\u001b[0m\n\u001b[0m\u001b[0;32m     10\u001b[0m     \u001b[0mmatch\u001b[0m \u001b[1;33m=\u001b[0m \u001b[0mdate_pattern\u001b[0m\u001b[1;33m.\u001b[0m\u001b[0msearch\u001b[0m\u001b[1;33m(\u001b[0m\u001b[0mtitle\u001b[0m\u001b[1;33m)\u001b[0m\u001b[1;33m\u001b[0m\u001b[1;33m\u001b[0m\u001b[0m\n\u001b[0;32m     11\u001b[0m     \u001b[1;32mif\u001b[0m \u001b[0mmatch\u001b[0m\u001b[1;33m:\u001b[0m\u001b[1;33m\u001b[0m\u001b[1;33m\u001b[0m\u001b[0m\n",
      "\u001b[1;31mAttributeError\u001b[0m: 'NoneType' object has no attribute 'text'"
     ]
    }
   ],
   "source": [
    "parsehtml(html)"
   ]
  },
  {
   "cell_type": "code",
   "execution_count": null,
   "id": "9a870578",
   "metadata": {},
   "outputs": [],
   "source": []
  }
 ],
 "metadata": {
  "kernelspec": {
   "display_name": "dev",
   "language": "python",
   "name": "dev"
  },
  "language_info": {
   "codemirror_mode": {
    "name": "ipython",
    "version": 3
   },
   "file_extension": ".py",
   "mimetype": "text/x-python",
   "name": "python",
   "nbconvert_exporter": "python",
   "pygments_lexer": "ipython3",
   "version": "3.7.11"
  }
 },
 "nbformat": 4,
 "nbformat_minor": 5
}
