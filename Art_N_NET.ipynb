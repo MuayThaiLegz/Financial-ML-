{
 "cells": [
  {
   "cell_type": "code",
   "execution_count": 1,
   "id": "2ab8ed0e-3601-4baf-a419-c41db4ff03f7",
   "metadata": {},
   "outputs": [],
   "source": [
    "import numpy as np \n",
    "from sklearn.datasets import load_iris\n",
    "from sklearn.linear_model import Perceptron\n",
    "import tensorflow as tf\n",
    "from tensorflow import keras "
   ]
  },
  {
   "cell_type": "code",
   "execution_count": 2,
   "id": "886d3d19-88ca-49f8-9d3a-855323c5b8f6",
   "metadata": {},
   "outputs": [],
   "source": [
    "iris = load_iris()\n",
    "X = iris.data[:, (2, 3)]\n",
    "y = (iris.target == 0).astype(np.int)"
   ]
  },
  {
   "cell_type": "code",
   "execution_count": 3,
   "id": "bfe4f9db-abcf-434a-9f20-e907b43c9e16",
   "metadata": {},
   "outputs": [
    {
     "data": {
      "text/plain": [
       "Perceptron()"
      ]
     },
     "execution_count": 3,
     "metadata": {},
     "output_type": "execute_result"
    }
   ],
   "source": [
    "pre_clf = Perceptron()\n",
    "pre_clf.fit(X, y)\n"
   ]
  },
  {
   "cell_type": "code",
   "execution_count": 4,
   "id": "59a8cfb9-9e97-487b-b46f-f9d16b48b0d9",
   "metadata": {},
   "outputs": [],
   "source": [
    "y_pred = pre_clf.predict([[2, 0.5]])"
   ]
  },
  {
   "cell_type": "code",
   "execution_count": 5,
   "id": "bb73275f-d78d-4eb4-87d6-e419fabaa8b4",
   "metadata": {},
   "outputs": [
    {
     "data": {
      "text/plain": [
       "'2.5.0'"
      ]
     },
     "execution_count": 5,
     "metadata": {},
     "output_type": "execute_result"
    }
   ],
   "source": [
    "tf.__version__"
   ]
  },
  {
   "cell_type": "code",
   "execution_count": 6,
   "id": "92ecb45d-dfc1-4ba3-b0f7-0d6973da9d5a",
   "metadata": {},
   "outputs": [
    {
     "data": {
      "text/plain": [
       "'2.5.0'"
      ]
     },
     "execution_count": 6,
     "metadata": {},
     "output_type": "execute_result"
    }
   ],
   "source": [
    "keras.__version__"
   ]
  },
  {
   "cell_type": "code",
   "execution_count": 7,
   "id": "c58c2d6a-988b-44fb-8cb8-0a311350f45c",
   "metadata": {},
   "outputs": [],
   "source": [
    "# Building an Image Classifier Using the Sequential API\n",
    "\n",
    "fashion_mnist = keras.datasets.fashion_mnist\n",
    "(X_train_full, y_train_full), (X_test, y_test) = fashion_mnist.load_data()"
   ]
  },
  {
   "cell_type": "code",
   "execution_count": 8,
   "id": "00373feb-1efb-49f9-bb1a-bb2d76049bec",
   "metadata": {},
   "outputs": [],
   "source": [
    "X_valid, X_train = X_train_full[:5000] / 255.0, X_train_full[5000:] / 255.0\n",
    "y_valid, y_train = y_train_full[:5000], y_train_full[5000:]"
   ]
  },
  {
   "cell_type": "code",
   "execution_count": 9,
   "id": "369f381a-4e45-4a02-92d2-31ae81c8ee8c",
   "metadata": {},
   "outputs": [],
   "source": [
    "class_names = [\"T-shirt/top\", \"Trouser\", \"Pullover\", \"Dress\", \"Coat\", \n",
    "              \"Sandal\", \"Shirt\", \"Sneaker\", \"Bag\", \"Ankle boot\"]"
   ]
  },
  {
   "cell_type": "code",
   "execution_count": 10,
   "id": "6068789d-c86a-4c4c-a810-f779765b5878",
   "metadata": {},
   "outputs": [
    {
     "data": {
      "text/plain": [
       "'Coat'"
      ]
     },
     "execution_count": 10,
     "metadata": {},
     "output_type": "execute_result"
    }
   ],
   "source": [
    "class_names[y_train[0]]"
   ]
  },
  {
   "cell_type": "code",
   "execution_count": 11,
   "id": "433a2d76-2232-4e9c-a2ad-78d4c101c7c1",
   "metadata": {},
   "outputs": [],
   "source": [
    "# Creating the model using the Sequential API\n",
    "# Here is a classification MLP with two hidden layers \n",
    "\n",
    "model = keras.models.Sequential()\n",
    "model.add(keras.layers.Flatten(input_shape=[28, 28]))\n",
    "model.add(keras.layers.Dense(300, activation='relu'))\n",
    "model.add(keras.layers.Dense(100, activation='relu'))\n",
    "model.add(keras.layers.Dense(10, activation='softmax'))\n",
    "\n",
    "# Instead of adding the layers one by one as we just did, you can pass a list of layers when creating the Sequantial model\n",
    "list_model = keras.models.Sequential([\n",
    "keras.layers.Flatten(input_shape=[28, 28]),\n",
    "keras.layers.Dense(300, activation='relu'),\n",
    "keras.layers.Dense(100, activation='relu'),\n",
    "keras.layers.Dense(10, activation='softmax')\n",
    "\n",
    "])"
   ]
  },
  {
   "cell_type": "code",
   "execution_count": 12,
   "id": "18c272b2-a635-42d6-970c-47543c824cb9",
   "metadata": {},
   "outputs": [],
   "source": [
    "\"\"\"\n",
    "Using coding examples from keras.io\n",
    "Code examples documented on keras.io will work fine with tf.keras, but you need to change the imports. For example, consider this keras\n",
    "\"\"\"\n",
    "\n",
    "from keras.layers import Dense\n",
    "output_layer = Dense(10)\n",
    "\n",
    "# You must change imports like this\n",
    "\n",
    "from tensorflow.keras.layers import Dense\n",
    "\n",
    "# Or use full paths if you prefer \n",
    "from tensorflow import keras\n",
    "output_layer = keras.layers.Dense(10)"
   ]
  },
  {
   "cell_type": "code",
   "execution_count": 13,
   "id": "b8a23ed2-7c79-4f81-ba2d-9eefd1b340ba",
   "metadata": {},
   "outputs": [
    {
     "name": "stdout",
     "output_type": "stream",
     "text": [
      "Model: \"sequential\"\n",
      "_________________________________________________________________\n",
      "Layer (type)                 Output Shape              Param #   \n",
      "=================================================================\n",
      "flatten (Flatten)            (None, 784)               0         \n",
      "_________________________________________________________________\n",
      "dense (Dense)                (None, 300)               235500    \n",
      "_________________________________________________________________\n",
      "dense_1 (Dense)              (None, 100)               30100     \n",
      "_________________________________________________________________\n",
      "dense_2 (Dense)              (None, 10)                1010      \n",
      "=================================================================\n",
      "Total params: 266,610\n",
      "Trainable params: 266,610\n",
      "Non-trainable params: 0\n",
      "_________________________________________________________________\n"
     ]
    }
   ],
   "source": [
    "model.summary()"
   ]
  },
  {
   "cell_type": "code",
   "execution_count": 14,
   "id": "3f35e40a-8d19-4668-a452-fd9fdf833b61",
   "metadata": {},
   "outputs": [
    {
     "data": {
      "text/plain": [
       "[<tensorflow.python.keras.layers.core.Flatten at 0x17eb370fac8>,\n",
       " <tensorflow.python.keras.layers.core.Dense at 0x17eb36ecd88>,\n",
       " <tensorflow.python.keras.layers.core.Dense at 0x17eb3743e48>,\n",
       " <tensorflow.python.keras.layers.core.Dense at 0x17ebcc1d308>]"
      ]
     },
     "execution_count": 14,
     "metadata": {},
     "output_type": "execute_result"
    }
   ],
   "source": [
    "model.layers"
   ]
  },
  {
   "cell_type": "code",
   "execution_count": 15,
   "id": "6873541d-461d-49ef-affe-34fbfe27317e",
   "metadata": {},
   "outputs": [
    {
     "data": {
      "text/plain": [
       "'dense'"
      ]
     },
     "execution_count": 15,
     "metadata": {},
     "output_type": "execute_result"
    }
   ],
   "source": [
    "hidden1 = model.layers[1]\n",
    "hidden1.name"
   ]
  },
  {
   "cell_type": "code",
   "execution_count": 16,
   "id": "5cbb792a-7a73-42a2-ad37-dfed45d89a80",
   "metadata": {},
   "outputs": [],
   "source": [
    "weights, biases = hidden1.get_weights()"
   ]
  },
  {
   "cell_type": "code",
   "execution_count": 17,
   "id": "0680896d-83a8-44b8-909e-e8a144f9f6a2",
   "metadata": {},
   "outputs": [
    {
     "data": {
      "text/plain": [
       "(784, 300)"
      ]
     },
     "execution_count": 17,
     "metadata": {},
     "output_type": "execute_result"
    }
   ],
   "source": [
    "weights\n",
    "weights.shape"
   ]
  },
  {
   "cell_type": "code",
   "execution_count": 18,
   "id": "72ccca24-9a1e-4df7-b387-c0b8147e95b0",
   "metadata": {},
   "outputs": [
    {
     "data": {
      "text/plain": [
       "(300,)"
      ]
     },
     "execution_count": 18,
     "metadata": {},
     "output_type": "execute_result"
    }
   ],
   "source": [
    "biases\n",
    "biases.shape"
   ]
  },
  {
   "cell_type": "code",
   "execution_count": 19,
   "id": "2f50d85e-3f2e-42cc-9e66-c767136e78d7",
   "metadata": {},
   "outputs": [],
   "source": [
    "# Compiling the model\n",
    "\"\"\"\n",
    "After a model if created, you must call its compile() method to specify the loss function and the optimizer to use.\n",
    "Optionally, you cxan specify a list of extra metrics to compute during training and evaluation:\n",
    "\"\"\"\n",
    "\n",
    "model.compile(loss=\"sparse_categorical_crossentropy\",\n",
    "             optimizer='sgd',\n",
    "             metrics=['accuracy'])"
   ]
  },
  {
   "cell_type": "code",
   "execution_count": 20,
   "id": "b532785e-4829-4483-9363-3372c596633d",
   "metadata": {},
   "outputs": [
    {
     "name": "stdout",
     "output_type": "stream",
     "text": [
      "Epoch 1/40\n",
      "1719/1719 [==============================] - 2s 877us/step - loss: 0.7217 - accuracy: 0.7658 - val_loss: 0.5276 - val_accuracy: 0.8198\n",
      "Epoch 2/40\n",
      "1719/1719 [==============================] - 1s 812us/step - loss: 0.4880 - accuracy: 0.8298 - val_loss: 0.4854 - val_accuracy: 0.8332\n",
      "Epoch 3/40\n",
      "1719/1719 [==============================] - 1s 825us/step - loss: 0.4425 - accuracy: 0.8450 - val_loss: 0.4294 - val_accuracy: 0.8554\n",
      "Epoch 4/40\n",
      "1719/1719 [==============================] - 1s 806us/step - loss: 0.4159 - accuracy: 0.8536 - val_loss: 0.4066 - val_accuracy: 0.8602\n",
      "Epoch 5/40\n",
      "1719/1719 [==============================] - 1s 807us/step - loss: 0.3933 - accuracy: 0.8609 - val_loss: 0.3887 - val_accuracy: 0.8656\n",
      "Epoch 6/40\n",
      "1719/1719 [==============================] - 1s 810us/step - loss: 0.3767 - accuracy: 0.8668 - val_loss: 0.3678 - val_accuracy: 0.8708\n",
      "Epoch 7/40\n",
      "1719/1719 [==============================] - 1s 832us/step - loss: 0.3632 - accuracy: 0.8709 - val_loss: 0.3726 - val_accuracy: 0.8714\n",
      "Epoch 8/40\n",
      "1719/1719 [==============================] - 1s 849us/step - loss: 0.3516 - accuracy: 0.8753 - val_loss: 0.3674 - val_accuracy: 0.8722\n",
      "Epoch 9/40\n",
      "1719/1719 [==============================] - 1s 816us/step - loss: 0.3413 - accuracy: 0.8783 - val_loss: 0.3614 - val_accuracy: 0.8750\n",
      "Epoch 10/40\n",
      "1719/1719 [==============================] - 1s 816us/step - loss: 0.3316 - accuracy: 0.8822 - val_loss: 0.3424 - val_accuracy: 0.8832\n",
      "Epoch 11/40\n",
      "1719/1719 [==============================] - 1s 806us/step - loss: 0.3237 - accuracy: 0.8840 - val_loss: 0.3413 - val_accuracy: 0.8786\n",
      "Epoch 12/40\n",
      "1719/1719 [==============================] - 1s 819us/step - loss: 0.3158 - accuracy: 0.8869 - val_loss: 0.3467 - val_accuracy: 0.8750\n",
      "Epoch 13/40\n",
      "1719/1719 [==============================] - 1s 813us/step - loss: 0.3082 - accuracy: 0.8895 - val_loss: 0.3438 - val_accuracy: 0.8740\n",
      "Epoch 14/40\n",
      "1719/1719 [==============================] - 1s 810us/step - loss: 0.3019 - accuracy: 0.8924 - val_loss: 0.3320 - val_accuracy: 0.8804\n",
      "Epoch 15/40\n",
      "1719/1719 [==============================] - 1s 821us/step - loss: 0.2967 - accuracy: 0.8940 - val_loss: 0.3221 - val_accuracy: 0.8846\n",
      "Epoch 16/40\n",
      "1719/1719 [==============================] - 1s 818us/step - loss: 0.2893 - accuracy: 0.8952 - val_loss: 0.3231 - val_accuracy: 0.8840\n",
      "Epoch 17/40\n",
      "1719/1719 [==============================] - 1s 816us/step - loss: 0.2843 - accuracy: 0.8990 - val_loss: 0.3271 - val_accuracy: 0.8846\n",
      "Epoch 18/40\n",
      "1719/1719 [==============================] - 1s 823us/step - loss: 0.2786 - accuracy: 0.9002 - val_loss: 0.3165 - val_accuracy: 0.8872\n",
      "Epoch 19/40\n",
      "1719/1719 [==============================] - 1s 821us/step - loss: 0.2744 - accuracy: 0.9008 - val_loss: 0.3207 - val_accuracy: 0.8842\n",
      "Epoch 20/40\n",
      "1719/1719 [==============================] - 1s 806us/step - loss: 0.2687 - accuracy: 0.9030 - val_loss: 0.3129 - val_accuracy: 0.8844\n",
      "Epoch 21/40\n",
      "1719/1719 [==============================] - 1s 805us/step - loss: 0.2635 - accuracy: 0.9056 - val_loss: 0.3384 - val_accuracy: 0.8790\n",
      "Epoch 22/40\n",
      "1719/1719 [==============================] - 1s 814us/step - loss: 0.2592 - accuracy: 0.9069 - val_loss: 0.3029 - val_accuracy: 0.8888\n",
      "Epoch 23/40\n",
      "1719/1719 [==============================] - 1s 837us/step - loss: 0.2549 - accuracy: 0.9072 - val_loss: 0.3177 - val_accuracy: 0.8872\n",
      "Epoch 24/40\n",
      "1719/1719 [==============================] - 1s 802us/step - loss: 0.2505 - accuracy: 0.9098 - val_loss: 0.2992 - val_accuracy: 0.8922\n",
      "Epoch 25/40\n",
      "1719/1719 [==============================] - 1s 806us/step - loss: 0.2465 - accuracy: 0.9116 - val_loss: 0.3031 - val_accuracy: 0.8882\n",
      "Epoch 26/40\n",
      "1719/1719 [==============================] - 1s 809us/step - loss: 0.2428 - accuracy: 0.9123 - val_loss: 0.3020 - val_accuracy: 0.8894\n",
      "Epoch 27/40\n",
      "1719/1719 [==============================] - 1s 802us/step - loss: 0.2398 - accuracy: 0.9131 - val_loss: 0.3004 - val_accuracy: 0.8932\n",
      "Epoch 28/40\n",
      "1719/1719 [==============================] - 1s 805us/step - loss: 0.2346 - accuracy: 0.9145 - val_loss: 0.2999 - val_accuracy: 0.8938\n",
      "Epoch 29/40\n",
      "1719/1719 [==============================] - 1s 808us/step - loss: 0.2310 - accuracy: 0.9169 - val_loss: 0.3018 - val_accuracy: 0.8916\n",
      "Epoch 30/40\n",
      "1719/1719 [==============================] - 1s 828us/step - loss: 0.2271 - accuracy: 0.9180 - val_loss: 0.3038 - val_accuracy: 0.8918\n",
      "Epoch 31/40\n",
      "1719/1719 [==============================] - 1s 820us/step - loss: 0.2237 - accuracy: 0.9198 - val_loss: 0.3086 - val_accuracy: 0.8908\n",
      "Epoch 32/40\n",
      "1719/1719 [==============================] - 1s 807us/step - loss: 0.2200 - accuracy: 0.9215 - val_loss: 0.3213 - val_accuracy: 0.8830\n",
      "Epoch 33/40\n",
      "1719/1719 [==============================] - 1s 805us/step - loss: 0.2167 - accuracy: 0.9219 - val_loss: 0.3140 - val_accuracy: 0.8902\n",
      "Epoch 34/40\n",
      "1719/1719 [==============================] - 1s 809us/step - loss: 0.2141 - accuracy: 0.9236 - val_loss: 0.2889 - val_accuracy: 0.8946\n",
      "Epoch 35/40\n",
      "1719/1719 [==============================] - 1s 802us/step - loss: 0.2103 - accuracy: 0.9244 - val_loss: 0.2912 - val_accuracy: 0.8994\n",
      "Epoch 36/40\n",
      "1719/1719 [==============================] - 1s 808us/step - loss: 0.2069 - accuracy: 0.9263 - val_loss: 0.2975 - val_accuracy: 0.8958\n",
      "Epoch 37/40\n",
      "1719/1719 [==============================] - 1s 812us/step - loss: 0.2028 - accuracy: 0.9271 - val_loss: 0.2961 - val_accuracy: 0.8938\n",
      "Epoch 38/40\n",
      "1719/1719 [==============================] - 1s 806us/step - loss: 0.2001 - accuracy: 0.9288 - val_loss: 0.2994 - val_accuracy: 0.8944\n",
      "Epoch 39/40\n",
      "1719/1719 [==============================] - 1s 805us/step - loss: 0.1977 - accuracy: 0.9289 - val_loss: 0.3549 - val_accuracy: 0.8768\n",
      "Epoch 40/40\n",
      "1719/1719 [==============================] - 1s 802us/step - loss: 0.1954 - accuracy: 0.9305 - val_loss: 0.2917 - val_accuracy: 0.8954\n"
     ]
    }
   ],
   "source": [
    "# Training and evaluating the model\n",
    "# Now, the model is ready to be trained. Simply call its fit() methods\n",
    "\n",
    "history = model.fit(X_train, y_train, epochs=40,\n",
    "                   validation_data=(X_valid, y_valid))"
   ]
  },
  {
   "cell_type": "code",
   "execution_count": 21,
   "id": "7dcb6f35-486f-47e9-a489-c34ca5fe1bbb",
   "metadata": {},
   "outputs": [
    {
     "data": {
      "image/png": "[encoded data removed]",
      "text/plain": [
       "<Figure size 576x360 with 1 Axes>"
      ]
     },
     "metadata": {
      "needs_background": "light"
     },
     "output_type": "display_data"
    }
   ],
   "source": [
    "\"\"\"\n",
    "The Fit() methods returns a History object containing the training parameters(history.params),\n",
    "The list of epochs it went through (history.epoch),\n",
    "A Dictioanry (history.history) containing the loss\n",
    "extra metrics it measured at the end of each epoch on the training set and on the validation set\n",
    "Create a PD DF call its plot() method, you get the learning curves\n",
    "\"\"\"\n",
    "\n",
    "import pandas as pd \n",
    "import matplotlib.pyplot as plt\n",
    "\n",
    "pd.DataFrame(history.history).plot(figsize=(8, 5))\n",
    "plt.grid(True)\n",
    "plt.gca().set_ylim(0, 1)\n",
    "plt.show()"
   ]
  },
  {
   "cell_type": "code",
   "execution_count": 22,
   "id": "7543cb8f-4051-44ea-aaeb-3d7b12cf51b2",
   "metadata": {},
   "outputs": [
    {
     "name": "stdout",
     "output_type": "stream",
     "text": [
      "313/313 [==============================] - 0s 828us/step - loss: 73.2465 - accuracy: 0.8382\n"
     ]
    },
    {
     "data": {
      "text/plain": [
       "[73.24645233154297, 0.8381999731063843]"
      ]
     },
     "execution_count": 22,
     "metadata": {},
     "output_type": "execute_result"
    }
   ],
   "source": [
    "model.evaluate(X_test, y_test)"
   ]
  },
  {
   "cell_type": "code",
   "execution_count": 23,
   "id": "051af0eb-0b1c-4395-9987-f59be9b1ef12",
   "metadata": {},
   "outputs": [
    {
     "data": {
      "text/plain": [
       "array([[0., 0., 0., 0., 0., 0., 0., 0., 0., 1.],\n",
       "       [0., 0., 1., 0., 0., 0., 0., 0., 0., 0.],\n",
       "       [0., 1., 0., 0., 0., 0., 0., 0., 0., 0.]], dtype=float32)"
      ]
     },
     "execution_count": 23,
     "metadata": {},
     "output_type": "execute_result"
    }
   ],
   "source": [
    "# Using the model to make predictions\n",
    "\"\"\"\n",
    "Next, we can use the model's predict() method to make predictions on new instances. \n",
    "Since we dont have new instances we take from test set\n",
    "\"\"\"\n",
    "X_new = X_test[:3]\n",
    "y_proba = model.predict(X_new)\n",
    "y_proba.round(2)"
   ]
  },
  {
   "cell_type": "code",
   "execution_count": 29,
   "id": "498d6333-3578-4494-8ac8-aa3c3bf508a2",
   "metadata": {},
   "outputs": [
    {
     "data": {
      "text/plain": [
       "array([9, 2, 1], dtype=int64)"
      ]
     },
     "execution_count": 29,
     "metadata": {},
     "output_type": "execute_result"
    }
   ],
   "source": [
    "y_pred = np.argmax(model.predict(X_new), axis=-1)\n",
    "y_pred"
   ]
  },
  {
   "cell_type": "code",
   "execution_count": 30,
   "id": "823f443d-43ef-4f79-b7bb-f15ef00af7ef",
   "metadata": {},
   "outputs": [
    {
     "data": {
      "text/plain": [
       "array(['Ankle boot', 'Pullover', 'Trouser'], dtype='<U11')"
      ]
     },
     "execution_count": 30,
     "metadata": {},
     "output_type": "execute_result"
    }
   ],
   "source": [
    "np.array(class_names)[y_pred]"
   ]
  },
  {
   "cell_type": "code",
   "execution_count": 31,
   "id": "348d8119",
   "metadata": {},
   "outputs": [
    {
     "data": {
      "text/plain": [
       "array([9, 2, 1], dtype=uint8)"
      ]
     },
     "execution_count": 31,
     "metadata": {},
     "output_type": "execute_result"
    }
   ],
   "source": [
    "y_new = y_test[:3]\n",
    "y_new"
   ]
  },
  {
   "cell_type": "code",
   "execution_count": 59,
   "id": "947321c9-1865-432a-bc92-596bf774abfc",
   "metadata": {},
   "outputs": [],
   "source": [
    "\"\"\"\n",
    "Building a Regression MLP Using Sequantial API using California housing data.\n",
    "\n",
    "After loading the data, we split it into a training set, a validation set, and a test set.\n",
    "\"\"\"\n",
    "\n",
    "from sklearn.datasets import fetch_california_housing\n",
    "\n",
    "from sklearn.model_selection import train_test_split\n",
    "\n",
    "from sklearn.preprocessing import StandardScaler"
   ]
  },
  {
   "cell_type": "code",
   "execution_count": 60,
   "id": "f153372d-ec6d-499a-a7b9-b64a63348f71",
   "metadata": {},
   "outputs": [],
   "source": [
    "housing = fetch_california_housing()"
   ]
  },
  {
   "cell_type": "code",
   "execution_count": 61,
   "id": "4b87707d-9190-4c5f-b70f-0f7b334cc1c1",
   "metadata": {},
   "outputs": [],
   "source": [
    "X_train_full, X_test, y_train_full, y_test = train_test_split(housing.data, housing.target)\n",
    "X_train, X_valid, y_train, y_valid = train_test_split(\n",
    "X_train_full, y_train_full)"
   ]
  },
  {
   "cell_type": "code",
   "execution_count": 62,
   "id": "df335ce6-44ff-4011-bf8e-85bd7a8ead41",
   "metadata": {},
   "outputs": [],
   "source": [
    "scaler = StandardScaler()\n",
    "X_train = scaler.fit_transform(X_train)\n",
    "X_valid = scaler.transform(X_valid)\n",
    "X_test = scaler.transform(X_test)"
   ]
  },
  {
   "cell_type": "code",
   "execution_count": 63,
   "id": "4f30ab7a-f6fb-4ec0-87be-585214fb7049",
   "metadata": {},
   "outputs": [
    {
     "name": "stdout",
     "output_type": "stream",
     "text": [
      "Epoch 1/20\n",
      "363/363 [==============================] - 0s 704us/step - loss: 0.9779 - val_loss: 0.6865\n",
      "Epoch 2/20\n",
      "363/363 [==============================] - 0s 506us/step - loss: 1.5942 - val_loss: 0.5133\n",
      "Epoch 3/20\n",
      "363/363 [==============================] - 0s 503us/step - loss: 0.5133 - val_loss: 0.4389\n",
      "Epoch 4/20\n",
      "363/363 [==============================] - 0s 501us/step - loss: 0.4669 - val_loss: 0.4190\n",
      "Epoch 5/20\n",
      "363/363 [==============================] - 0s 523us/step - loss: 0.4488 - val_loss: 0.3986\n",
      "Epoch 6/20\n",
      "363/363 [==============================] - 0s 523us/step - loss: 0.4448 - val_loss: 0.4037\n",
      "Epoch 7/20\n",
      "363/363 [==============================] - 0s 501us/step - loss: 0.4235 - val_loss: 0.3853\n",
      "Epoch 8/20\n",
      "363/363 [==============================] - 0s 523us/step - loss: 0.4167 - val_loss: 0.3762\n",
      "Epoch 9/20\n",
      "363/363 [==============================] - 0s 501us/step - loss: 0.4732 - val_loss: 0.3783\n",
      "Epoch 10/20\n",
      "363/363 [==============================] - 0s 499us/step - loss: 0.4194 - val_loss: 0.3690\n",
      "Epoch 11/20\n",
      "363/363 [==============================] - 0s 515us/step - loss: 0.4067 - val_loss: 0.3656\n",
      "Epoch 12/20\n",
      "363/363 [==============================] - 0s 503us/step - loss: 0.3982 - val_loss: 0.3568\n",
      "Epoch 13/20\n",
      "363/363 [==============================] - 0s 693us/step - loss: 0.3898 - val_loss: 0.3654\n",
      "Epoch 14/20\n",
      "363/363 [==============================] - 0s 521us/step - loss: 0.3891 - val_loss: 0.3515\n",
      "Epoch 15/20\n",
      "363/363 [==============================] - 0s 641us/step - loss: 0.3793 - val_loss: 0.3808\n",
      "Epoch 16/20\n",
      "363/363 [==============================] - 0s 641us/step - loss: 0.4305 - val_loss: 0.3452\n",
      "Epoch 17/20\n",
      "363/363 [==============================] - 0s 501us/step - loss: 0.3784 - val_loss: 0.3397\n",
      "Epoch 18/20\n",
      "363/363 [==============================] - 0s 499us/step - loss: 0.3745 - val_loss: 0.3391\n",
      "Epoch 19/20\n",
      "363/363 [==============================] - 0s 510us/step - loss: 0.3693 - val_loss: 0.3410\n",
      "Epoch 20/20\n",
      "363/363 [==============================] - 0s 504us/step - loss: 0.3786 - val_loss: 0.3357\n",
      "162/162 [==============================] - 0s 365us/step - loss: 0.3535\n"
     ]
    }
   ],
   "source": [
    "\"\"\"\n",
    "With regression MLP the output layer has a single neuron (since we only want to predict a single value)\n",
    "Uses no activation funtion, and the loss function is the mean squared error. \n",
    "\"\"\"\n",
    "\n",
    "model = keras.models.Sequential([\n",
    "    keras.layers.Dense(30, activation ='relu', input_shape=X_train.shape[1:]),\n",
    "    keras.layers.Dense(1)\n",
    "])\n",
    "model.compile(loss='mean_squared_error', optimizer='sgd')\n",
    "history = model.fit(X_train, y_train, epochs=20,\n",
    "                   validation_data=(X_valid, y_valid))\n",
    "mse_test = model.evaluate(X_test, y_test)\n",
    "X_new = X_test[:3]\n",
    "y_pred = model.predict(X_new)"
   ]
  },
  {
   "cell_type": "code",
   "execution_count": null,
   "id": "e7b5215b-ec86-46e0-9823-0f4813280c93",
   "metadata": {},
   "outputs": [],
   "source": [
    "# Building Comples Models Using the Functional API"
   ]
  },
  {
   "cell_type": "code",
   "execution_count": 67,
   "id": "a06bc149-e8d6-4829-a209-141a21316c9a",
   "metadata": {},
   "outputs": [],
   "source": [
    "\"\"\"\n",
    "One example of a nonsequental neural network is a Wide & Deep neural network.\n",
    "It connects all or part of the imputs directly to the output layer.\n",
    "This architecture makes it possible for the neural network to learn both deep patterns (using the deep path)\n",
    "And simple rules (through the short path)\n",
    "Regular MLP forces all the data to flow throught the full stack of layers.\n",
    "Simple patters in the data may end up being distorted by the sequence of transformaations.\n",
    "\"\"\"\n",
    "\n",
    "input_ = keras.layers.Input(shape=X_train.shape[1:])\n",
    "hidden1 = keras.layers.Dense(30, activation='relu')(input_)\n",
    "hidden2 = keras.layers.Dense(30, activation='relu')(hidden1)\n",
    "concat = keras.layers.Concatenate()([input_, hidden2])\n",
    "output = keras.layers.Dense(1)(concat)\n",
    "model = keras.Model(inputs=[input_], outputs=[output])"
   ]
  },
  {
   "cell_type": "code",
   "execution_count": null,
   "id": "ccff2840-2975-4bc1-97aa-d97b371f71fc",
   "metadata": {},
   "outputs": [],
   "source": []
  },
  {
   "cell_type": "code",
   "execution_count": 74,
   "id": "ab0e99af-264a-4403-8313-e55d047ba5cb",
   "metadata": {},
   "outputs": [],
   "source": [
    "input_A = keras.layers.Input(shape=[5], name='wide_input')\n",
    "input_B = keras.layers.Input(shape=[6], name='deep_input')\n",
    "hidden1 = keras.layers.Dense(30, activation = 'relu')(input_B)\n",
    "hidden2 = keras.layers.Dense(30, activation = 'relu')(hidden1)\n",
    "concat = keras.layers.concatenate([input_A, hidden2])\n",
    "output = keras.layers.Dense(1, name='output')(concat)\n",
    "model = keras.Model(inputs=[input_A, input_B], outputs=[output])"
   ]
  },
  {
   "cell_type": "code",
   "execution_count": null,
   "id": "21f7548b-7827-4d31-811a-567a8e859081",
   "metadata": {},
   "outputs": [],
   "source": []
  },
  {
   "cell_type": "code",
   "execution_count": null,
   "id": "74aa4592-b62d-4dc7-8b28-b0b3fd0088fe",
   "metadata": {},
   "outputs": [],
   "source": []
  }
 ],
 "metadata": {
  "kernelspec": {
   "display_name": "dev",
   "language": "python",
   "name": "dev"
  },
  "language_info": {
   "codemirror_mode": {
    "name": "ipython",
    "version": 3
   },
   "file_extension": ".py",
   "mimetype": "text/x-python",
   "name": "python",
   "nbconvert_exporter": "python",
   "pygments_lexer": "ipython3",
   "version": "3.7.10"
  }
 },
 "nbformat": 4,
 "nbformat_minor": 5
}
